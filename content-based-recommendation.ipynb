{
 "cells": [
  {
   "cell_type": "markdown",
   "id": "4a4c1bfd",
   "metadata": {
    "papermill": {
     "duration": 0.007061,
     "end_time": "2024-09-27T10:54:09.814676",
     "exception": false,
     "start_time": "2024-09-27T10:54:09.807615",
     "status": "completed"
    },
    "tags": []
   },
   "source": [
    "**Building Recommendation System Based on Movie Descriptions in the \"Overview\"**\n",
    "\n",
    "Business Problem: The platform is unable to develop product recommendations using collaborative filtering methods."
   ]
  },
  {
   "cell_type": "code",
   "execution_count": 1,
   "id": "3d27f184",
   "metadata": {
    "execution": {
     "iopub.execute_input": "2024-09-27T10:54:09.828869Z",
     "iopub.status.busy": "2024-09-27T10:54:09.828357Z",
     "iopub.status.idle": "2024-09-27T10:54:12.193358Z",
     "shell.execute_reply": "2024-09-27T10:54:12.191839Z"
    },
    "papermill": {
     "duration": 2.375566,
     "end_time": "2024-09-27T10:54:12.196399",
     "exception": false,
     "start_time": "2024-09-27T10:54:09.820833",
     "status": "completed"
    },
    "tags": []
   },
   "outputs": [],
   "source": [
    "import pandas as pd\n",
    "pd.set_option('display.max_columns', None)\n",
    "pd.set_option('display.width', 500)\n",
    "pd.set_option('display.expand_frame_repr', False)\n",
    "from sklearn.feature_extraction.text import TfidfVectorizer\n",
    "from sklearn.metrics.pairwise import cosine_similarity\n"
   ]
  },
  {
   "cell_type": "code",
   "execution_count": 2,
   "id": "78141910",
   "metadata": {
    "execution": {
     "iopub.execute_input": "2024-09-27T10:54:12.210811Z",
     "iopub.status.busy": "2024-09-27T10:54:12.210081Z",
     "iopub.status.idle": "2024-09-27T10:54:13.865621Z",
     "shell.execute_reply": "2024-09-27T10:54:13.863699Z"
    },
    "papermill": {
     "duration": 1.667398,
     "end_time": "2024-09-27T10:54:13.869947",
     "exception": false,
     "start_time": "2024-09-27T10:54:12.202549",
     "status": "completed"
    },
    "tags": []
   },
   "outputs": [
    {
     "data": {
      "text/html": [
       "<div>\n",
       "<style scoped>\n",
       "    .dataframe tbody tr th:only-of-type {\n",
       "        vertical-align: middle;\n",
       "    }\n",
       "\n",
       "    .dataframe tbody tr th {\n",
       "        vertical-align: top;\n",
       "    }\n",
       "\n",
       "    .dataframe thead th {\n",
       "        text-align: right;\n",
       "    }\n",
       "</style>\n",
       "<table border=\"1\" class=\"dataframe\">\n",
       "  <thead>\n",
       "    <tr style=\"text-align: right;\">\n",
       "      <th></th>\n",
       "      <th>adult</th>\n",
       "      <th>belongs_to_collection</th>\n",
       "      <th>budget</th>\n",
       "      <th>genres</th>\n",
       "      <th>homepage</th>\n",
       "      <th>id</th>\n",
       "      <th>imdb_id</th>\n",
       "      <th>original_language</th>\n",
       "      <th>original_title</th>\n",
       "      <th>overview</th>\n",
       "      <th>popularity</th>\n",
       "      <th>poster_path</th>\n",
       "      <th>production_companies</th>\n",
       "      <th>production_countries</th>\n",
       "      <th>release_date</th>\n",
       "      <th>revenue</th>\n",
       "      <th>runtime</th>\n",
       "      <th>spoken_languages</th>\n",
       "      <th>status</th>\n",
       "      <th>tagline</th>\n",
       "      <th>title</th>\n",
       "      <th>video</th>\n",
       "      <th>vote_average</th>\n",
       "      <th>vote_count</th>\n",
       "    </tr>\n",
       "  </thead>\n",
       "  <tbody>\n",
       "    <tr>\n",
       "      <th>0</th>\n",
       "      <td>False</td>\n",
       "      <td>{'id': 10194, 'name': 'Toy Story Collection', ...</td>\n",
       "      <td>30000000</td>\n",
       "      <td>[{'id': 16, 'name': 'Animation'}, {'id': 35, '...</td>\n",
       "      <td>http://toystory.disney.com/toy-story</td>\n",
       "      <td>862</td>\n",
       "      <td>tt0114709</td>\n",
       "      <td>en</td>\n",
       "      <td>Toy Story</td>\n",
       "      <td>Led by Woody, Andy's toys live happily in his ...</td>\n",
       "      <td>21.946943</td>\n",
       "      <td>/rhIRbceoE9lR4veEXuwCC2wARtG.jpg</td>\n",
       "      <td>[{'name': 'Pixar Animation Studios', 'id': 3}]</td>\n",
       "      <td>[{'iso_3166_1': 'US', 'name': 'United States o...</td>\n",
       "      <td>1995-10-30</td>\n",
       "      <td>373554033.0</td>\n",
       "      <td>81.0</td>\n",
       "      <td>[{'iso_639_1': 'en', 'name': 'English'}]</td>\n",
       "      <td>Released</td>\n",
       "      <td>NaN</td>\n",
       "      <td>Toy Story</td>\n",
       "      <td>False</td>\n",
       "      <td>7.7</td>\n",
       "      <td>5415.0</td>\n",
       "    </tr>\n",
       "    <tr>\n",
       "      <th>1</th>\n",
       "      <td>False</td>\n",
       "      <td>NaN</td>\n",
       "      <td>65000000</td>\n",
       "      <td>[{'id': 12, 'name': 'Adventure'}, {'id': 14, '...</td>\n",
       "      <td>NaN</td>\n",
       "      <td>8844</td>\n",
       "      <td>tt0113497</td>\n",
       "      <td>en</td>\n",
       "      <td>Jumanji</td>\n",
       "      <td>When siblings Judy and Peter discover an encha...</td>\n",
       "      <td>17.015539</td>\n",
       "      <td>/vzmL6fP7aPKNKPRTFnZmiUfciyV.jpg</td>\n",
       "      <td>[{'name': 'TriStar Pictures', 'id': 559}, {'na...</td>\n",
       "      <td>[{'iso_3166_1': 'US', 'name': 'United States o...</td>\n",
       "      <td>1995-12-15</td>\n",
       "      <td>262797249.0</td>\n",
       "      <td>104.0</td>\n",
       "      <td>[{'iso_639_1': 'en', 'name': 'English'}, {'iso...</td>\n",
       "      <td>Released</td>\n",
       "      <td>Roll the dice and unleash the excitement!</td>\n",
       "      <td>Jumanji</td>\n",
       "      <td>False</td>\n",
       "      <td>6.9</td>\n",
       "      <td>2413.0</td>\n",
       "    </tr>\n",
       "    <tr>\n",
       "      <th>2</th>\n",
       "      <td>False</td>\n",
       "      <td>{'id': 119050, 'name': 'Grumpy Old Men Collect...</td>\n",
       "      <td>0</td>\n",
       "      <td>[{'id': 10749, 'name': 'Romance'}, {'id': 35, ...</td>\n",
       "      <td>NaN</td>\n",
       "      <td>15602</td>\n",
       "      <td>tt0113228</td>\n",
       "      <td>en</td>\n",
       "      <td>Grumpier Old Men</td>\n",
       "      <td>A family wedding reignites the ancient feud be...</td>\n",
       "      <td>11.7129</td>\n",
       "      <td>/6ksm1sjKMFLbO7UY2i6G1ju9SML.jpg</td>\n",
       "      <td>[{'name': 'Warner Bros.', 'id': 6194}, {'name'...</td>\n",
       "      <td>[{'iso_3166_1': 'US', 'name': 'United States o...</td>\n",
       "      <td>1995-12-22</td>\n",
       "      <td>0.0</td>\n",
       "      <td>101.0</td>\n",
       "      <td>[{'iso_639_1': 'en', 'name': 'English'}]</td>\n",
       "      <td>Released</td>\n",
       "      <td>Still Yelling. Still Fighting. Still Ready for...</td>\n",
       "      <td>Grumpier Old Men</td>\n",
       "      <td>False</td>\n",
       "      <td>6.5</td>\n",
       "      <td>92.0</td>\n",
       "    </tr>\n",
       "    <tr>\n",
       "      <th>3</th>\n",
       "      <td>False</td>\n",
       "      <td>NaN</td>\n",
       "      <td>16000000</td>\n",
       "      <td>[{'id': 35, 'name': 'Comedy'}, {'id': 18, 'nam...</td>\n",
       "      <td>NaN</td>\n",
       "      <td>31357</td>\n",
       "      <td>tt0114885</td>\n",
       "      <td>en</td>\n",
       "      <td>Waiting to Exhale</td>\n",
       "      <td>Cheated on, mistreated and stepped on, the wom...</td>\n",
       "      <td>3.859495</td>\n",
       "      <td>/16XOMpEaLWkrcPqSQqhTmeJuqQl.jpg</td>\n",
       "      <td>[{'name': 'Twentieth Century Fox Film Corporat...</td>\n",
       "      <td>[{'iso_3166_1': 'US', 'name': 'United States o...</td>\n",
       "      <td>1995-12-22</td>\n",
       "      <td>81452156.0</td>\n",
       "      <td>127.0</td>\n",
       "      <td>[{'iso_639_1': 'en', 'name': 'English'}]</td>\n",
       "      <td>Released</td>\n",
       "      <td>Friends are the people who let you be yourself...</td>\n",
       "      <td>Waiting to Exhale</td>\n",
       "      <td>False</td>\n",
       "      <td>6.1</td>\n",
       "      <td>34.0</td>\n",
       "    </tr>\n",
       "    <tr>\n",
       "      <th>4</th>\n",
       "      <td>False</td>\n",
       "      <td>{'id': 96871, 'name': 'Father of the Bride Col...</td>\n",
       "      <td>0</td>\n",
       "      <td>[{'id': 35, 'name': 'Comedy'}]</td>\n",
       "      <td>NaN</td>\n",
       "      <td>11862</td>\n",
       "      <td>tt0113041</td>\n",
       "      <td>en</td>\n",
       "      <td>Father of the Bride Part II</td>\n",
       "      <td>Just when George Banks has recovered from his ...</td>\n",
       "      <td>8.387519</td>\n",
       "      <td>/e64sOI48hQXyru7naBFyssKFxVd.jpg</td>\n",
       "      <td>[{'name': 'Sandollar Productions', 'id': 5842}...</td>\n",
       "      <td>[{'iso_3166_1': 'US', 'name': 'United States o...</td>\n",
       "      <td>1995-02-10</td>\n",
       "      <td>76578911.0</td>\n",
       "      <td>106.0</td>\n",
       "      <td>[{'iso_639_1': 'en', 'name': 'English'}]</td>\n",
       "      <td>Released</td>\n",
       "      <td>Just When His World Is Back To Normal... He's ...</td>\n",
       "      <td>Father of the Bride Part II</td>\n",
       "      <td>False</td>\n",
       "      <td>5.7</td>\n",
       "      <td>173.0</td>\n",
       "    </tr>\n",
       "  </tbody>\n",
       "</table>\n",
       "</div>"
      ],
      "text/plain": [
       "   adult                              belongs_to_collection    budget                                             genres                              homepage     id    imdb_id original_language               original_title                                           overview popularity                       poster_path                               production_companies                               production_countries release_date      revenue  runtime                                   spoken_languages    status                                            tagline                        title  video  vote_average  vote_count\n",
       "0  False  {'id': 10194, 'name': 'Toy Story Collection', ...  30000000  [{'id': 16, 'name': 'Animation'}, {'id': 35, '...  http://toystory.disney.com/toy-story    862  tt0114709                en                    Toy Story  Led by Woody, Andy's toys live happily in his ...  21.946943  /rhIRbceoE9lR4veEXuwCC2wARtG.jpg     [{'name': 'Pixar Animation Studios', 'id': 3}]  [{'iso_3166_1': 'US', 'name': 'United States o...   1995-10-30  373554033.0     81.0           [{'iso_639_1': 'en', 'name': 'English'}]  Released                                                NaN                    Toy Story  False           7.7      5415.0\n",
       "1  False                                                NaN  65000000  [{'id': 12, 'name': 'Adventure'}, {'id': 14, '...                                   NaN   8844  tt0113497                en                      Jumanji  When siblings Judy and Peter discover an encha...  17.015539  /vzmL6fP7aPKNKPRTFnZmiUfciyV.jpg  [{'name': 'TriStar Pictures', 'id': 559}, {'na...  [{'iso_3166_1': 'US', 'name': 'United States o...   1995-12-15  262797249.0    104.0  [{'iso_639_1': 'en', 'name': 'English'}, {'iso...  Released          Roll the dice and unleash the excitement!                      Jumanji  False           6.9      2413.0\n",
       "2  False  {'id': 119050, 'name': 'Grumpy Old Men Collect...         0  [{'id': 10749, 'name': 'Romance'}, {'id': 35, ...                                   NaN  15602  tt0113228                en             Grumpier Old Men  A family wedding reignites the ancient feud be...    11.7129  /6ksm1sjKMFLbO7UY2i6G1ju9SML.jpg  [{'name': 'Warner Bros.', 'id': 6194}, {'name'...  [{'iso_3166_1': 'US', 'name': 'United States o...   1995-12-22          0.0    101.0           [{'iso_639_1': 'en', 'name': 'English'}]  Released  Still Yelling. Still Fighting. Still Ready for...             Grumpier Old Men  False           6.5        92.0\n",
       "3  False                                                NaN  16000000  [{'id': 35, 'name': 'Comedy'}, {'id': 18, 'nam...                                   NaN  31357  tt0114885                en            Waiting to Exhale  Cheated on, mistreated and stepped on, the wom...   3.859495  /16XOMpEaLWkrcPqSQqhTmeJuqQl.jpg  [{'name': 'Twentieth Century Fox Film Corporat...  [{'iso_3166_1': 'US', 'name': 'United States o...   1995-12-22   81452156.0    127.0           [{'iso_639_1': 'en', 'name': 'English'}]  Released  Friends are the people who let you be yourself...            Waiting to Exhale  False           6.1        34.0\n",
       "4  False  {'id': 96871, 'name': 'Father of the Bride Col...         0                     [{'id': 35, 'name': 'Comedy'}]                                   NaN  11862  tt0113041                en  Father of the Bride Part II  Just when George Banks has recovered from his ...   8.387519  /e64sOI48hQXyru7naBFyssKFxVd.jpg  [{'name': 'Sandollar Productions', 'id': 5842}...  [{'iso_3166_1': 'US', 'name': 'United States o...   1995-02-10   76578911.0    106.0           [{'iso_639_1': 'en', 'name': 'English'}]  Released  Just When His World Is Back To Normal... He's ...  Father of the Bride Part II  False           5.7       173.0"
      ]
     },
     "execution_count": 2,
     "metadata": {},
     "output_type": "execute_result"
    }
   ],
   "source": [
    "df = pd.read_csv(\"/kaggle/input/movies-metadata/movies_metadata.csv\", low_memory=False)\n",
    "df.head()"
   ]
  },
  {
   "cell_type": "code",
   "execution_count": 3,
   "id": "d1604156",
   "metadata": {
    "execution": {
     "iopub.execute_input": "2024-09-27T10:54:13.885303Z",
     "iopub.status.busy": "2024-09-27T10:54:13.884844Z",
     "iopub.status.idle": "2024-09-27T10:54:13.892406Z",
     "shell.execute_reply": "2024-09-27T10:54:13.891194Z"
    },
    "papermill": {
     "duration": 0.018421,
     "end_time": "2024-09-27T10:54:13.894911",
     "exception": false,
     "start_time": "2024-09-27T10:54:13.876490",
     "status": "completed"
    },
    "tags": []
   },
   "outputs": [
    {
     "data": {
      "text/plain": [
       "(45466, 24)"
      ]
     },
     "execution_count": 3,
     "metadata": {},
     "output_type": "execute_result"
    }
   ],
   "source": [
    "df.shape"
   ]
  },
  {
   "cell_type": "markdown",
   "id": "1cc8788c",
   "metadata": {
    "papermill": {
     "duration": 0.006483,
     "end_time": "2024-09-27T10:54:13.908130",
     "exception": false,
     "start_time": "2024-09-27T10:54:13.901647",
     "status": "completed"
    },
    "tags": []
   },
   "source": [
    "****Normalizing TF-IDF****"
   ]
  },
  {
   "cell_type": "code",
   "execution_count": 4,
   "id": "bc056a4e",
   "metadata": {
    "execution": {
     "iopub.execute_input": "2024-09-27T10:54:13.923808Z",
     "iopub.status.busy": "2024-09-27T10:54:13.923350Z",
     "iopub.status.idle": "2024-09-27T10:54:17.434601Z",
     "shell.execute_reply": "2024-09-27T10:54:17.433280Z"
    },
    "papermill": {
     "duration": 3.522261,
     "end_time": "2024-09-27T10:54:17.437230",
     "exception": false,
     "start_time": "2024-09-27T10:54:13.914969",
     "status": "completed"
    },
    "tags": []
   },
   "outputs": [
    {
     "data": {
      "text/plain": [
       "(45466, 75827)"
      ]
     },
     "execution_count": 4,
     "metadata": {},
     "output_type": "execute_result"
    }
   ],
   "source": [
    "# Removing non-measurable words, Creating Vectorizer\n",
    "tfidf = TfidfVectorizer(stop_words=\"english\")\n",
    "\n",
    "# Filling NA\n",
    "df['overview'] = df['overview'].fillna('')\n",
    "\n",
    "# Fit&Transform\n",
    "tfidf_matrix = tfidf.fit_transform(df['overview'])\n",
    "\n",
    "# Check\n",
    "tfidf_matrix.shape"
   ]
  },
  {
   "cell_type": "code",
   "execution_count": 5,
   "id": "9b957113",
   "metadata": {
    "execution": {
     "iopub.execute_input": "2024-09-27T10:54:17.452536Z",
     "iopub.status.busy": "2024-09-27T10:54:17.452064Z",
     "iopub.status.idle": "2024-09-27T10:54:23.823213Z",
     "shell.execute_reply": "2024-09-27T10:54:23.822122Z"
    },
    "papermill": {
     "duration": 6.38178,
     "end_time": "2024-09-27T10:54:23.825673",
     "exception": false,
     "start_time": "2024-09-27T10:54:17.443893",
     "status": "completed"
    },
    "tags": []
   },
   "outputs": [
    {
     "data": {
      "text/plain": [
       "array([[0., 0., 0., ..., 0., 0., 0.],\n",
       "       [0., 0., 0., ..., 0., 0., 0.],\n",
       "       [0., 0., 0., ..., 0., 0., 0.],\n",
       "       ...,\n",
       "       [0., 0., 0., ..., 0., 0., 0.],\n",
       "       [0., 0., 0., ..., 0., 0., 0.],\n",
       "       [0., 0., 0., ..., 0., 0., 0.]])"
      ]
     },
     "execution_count": 5,
     "metadata": {},
     "output_type": "execute_result"
    }
   ],
   "source": [
    "tfidf.get_feature_names_out()\n",
    "tfidf_matrix.toarray()"
   ]
  },
  {
   "cell_type": "markdown",
   "id": "ebe66640",
   "metadata": {
    "papermill": {
     "duration": 0.006559,
     "end_time": "2024-09-27T10:54:23.839089",
     "exception": false,
     "start_time": "2024-09-27T10:54:23.832530",
     "status": "completed"
    },
    "tags": []
   },
   "source": [
    "**Cosine Similarity Calculation**"
   ]
  },
  {
   "cell_type": "code",
   "execution_count": 6,
   "id": "44ad3498",
   "metadata": {
    "execution": {
     "iopub.execute_input": "2024-09-27T10:54:23.854548Z",
     "iopub.status.busy": "2024-09-27T10:54:23.853761Z",
     "iopub.status.idle": "2024-09-27T10:55:08.570182Z",
     "shell.execute_reply": "2024-09-27T10:55:08.568679Z"
    },
    "papermill": {
     "duration": 44.73416,
     "end_time": "2024-09-27T10:55:08.579850",
     "exception": false,
     "start_time": "2024-09-27T10:54:23.845690",
     "status": "completed"
    },
    "tags": []
   },
   "outputs": [
    {
     "data": {
      "text/plain": [
       "(45466, 45466)"
      ]
     },
     "execution_count": 6,
     "metadata": {},
     "output_type": "execute_result"
    }
   ],
   "source": [
    "cosine_sim = cosine_similarity(tfidf_matrix,\n",
    "                               tfidf_matrix)\n",
    "\n",
    "cosine_sim.shape"
   ]
  },
  {
   "cell_type": "code",
   "execution_count": 7,
   "id": "91db00de",
   "metadata": {
    "execution": {
     "iopub.execute_input": "2024-09-27T10:55:08.595989Z",
     "iopub.status.busy": "2024-09-27T10:55:08.595500Z",
     "iopub.status.idle": "2024-09-27T10:55:08.604357Z",
     "shell.execute_reply": "2024-09-27T10:55:08.602973Z"
    },
    "papermill": {
     "duration": 0.020331,
     "end_time": "2024-09-27T10:55:08.607227",
     "exception": false,
     "start_time": "2024-09-27T10:55:08.586896",
     "status": "completed"
    },
    "tags": []
   },
   "outputs": [
    {
     "data": {
      "text/plain": [
       "array([0.01504121, 1.        , 0.04681953, ..., 0.        , 0.02198641,\n",
       "       0.00929411])"
      ]
     },
     "execution_count": 7,
     "metadata": {},
     "output_type": "execute_result"
    }
   ],
   "source": [
    "# The similarity score between the movie at index 1 and all other movies\n",
    "cosine_sim[1]"
   ]
  },
  {
   "cell_type": "markdown",
   "id": "796bcda7",
   "metadata": {
    "papermill": {
     "duration": 0.006899,
     "end_time": "2024-09-27T10:55:08.621502",
     "exception": false,
     "start_time": "2024-09-27T10:55:08.614603",
     "status": "completed"
    },
    "tags": []
   },
   "source": [
    "**Including the title information to make it more readable**"
   ]
  },
  {
   "cell_type": "code",
   "execution_count": 8,
   "id": "cdccd2a3",
   "metadata": {
    "execution": {
     "iopub.execute_input": "2024-09-27T10:55:08.637787Z",
     "iopub.status.busy": "2024-09-27T10:55:08.637350Z",
     "iopub.status.idle": "2024-09-27T10:55:08.686250Z",
     "shell.execute_reply": "2024-09-27T10:55:08.684953Z"
    },
    "papermill": {
     "duration": 0.060289,
     "end_time": "2024-09-27T10:55:08.689056",
     "exception": false,
     "start_time": "2024-09-27T10:55:08.628767",
     "status": "completed"
    },
    "tags": []
   },
   "outputs": [
    {
     "data": {
      "text/plain": [
       "title\n",
       "Cinderella              11\n",
       "Hamlet                   9\n",
       "Alice in Wonderland      9\n",
       "Beauty and the Beast     8\n",
       "Les Misérables           8\n",
       "                        ..\n",
       "Cluny Brown              1\n",
       "Babies                   1\n",
       "The Green Room           1\n",
       "Captain Conan            1\n",
       "Queerama                 1\n",
       "Name: count, Length: 42277, dtype: int64"
      ]
     },
     "execution_count": 8,
     "metadata": {},
     "output_type": "execute_result"
    }
   ],
   "source": [
    "indices = pd.Series(df.index, index=df['title'])\n",
    "indices.index.value_counts()"
   ]
  },
  {
   "cell_type": "markdown",
   "id": "aa5d692f",
   "metadata": {
    "papermill": {
     "duration": 0.007606,
     "end_time": "2024-09-27T10:55:08.704661",
     "exception": false,
     "start_time": "2024-09-27T10:55:08.697055",
     "status": "completed"
    },
    "tags": []
   },
   "source": [
    "**Keeping only the last occurrence of each duplicate title and remove the others**"
   ]
  },
  {
   "cell_type": "code",
   "execution_count": 9,
   "id": "e73c14c6",
   "metadata": {
    "execution": {
     "iopub.execute_input": "2024-09-27T10:55:08.723394Z",
     "iopub.status.busy": "2024-09-27T10:55:08.722971Z",
     "iopub.status.idle": "2024-09-27T10:55:08.774648Z",
     "shell.execute_reply": "2024-09-27T10:55:08.773247Z"
    },
    "papermill": {
     "duration": 0.063919,
     "end_time": "2024-09-27T10:55:08.777389",
     "exception": false,
     "start_time": "2024-09-27T10:55:08.713470",
     "status": "completed"
    },
    "tags": []
   },
   "outputs": [
    {
     "data": {
      "text/plain": [
       "title\n",
       "Toy Story                   1\n",
       "Russell Madness             1\n",
       "Attack of the Sabretooth    1\n",
       "The Millennials             1\n",
       "X/Y                         1\n",
       "                           ..\n",
       "Wife! Be Like a Rose!       1\n",
       "Adelheid                    1\n",
       "PEEPLI [Live]               1\n",
       "The Moth                    1\n",
       "Queerama                    1\n",
       "Name: count, Length: 42277, dtype: int64"
      ]
     },
     "execution_count": 9,
     "metadata": {},
     "output_type": "execute_result"
    }
   ],
   "source": [
    "indices = indices[~indices.index.duplicated(keep='last')]\n",
    "indices.index.value_counts()"
   ]
  },
  {
   "cell_type": "markdown",
   "id": "ef430fe3",
   "metadata": {
    "papermill": {
     "duration": 0.008393,
     "end_time": "2024-09-27T10:55:08.794627",
     "exception": false,
     "start_time": "2024-09-27T10:55:08.786234",
     "status": "completed"
    },
    "tags": []
   },
   "source": [
    "**Accessing the similarity indices between the movie Sherlock Holmes and all other movies, along with their scores for readability**"
   ]
  },
  {
   "cell_type": "code",
   "execution_count": 10,
   "id": "347d4313",
   "metadata": {
    "execution": {
     "iopub.execute_input": "2024-09-27T10:55:08.812915Z",
     "iopub.status.busy": "2024-09-27T10:55:08.812486Z",
     "iopub.status.idle": "2024-09-27T10:55:08.835930Z",
     "shell.execute_reply": "2024-09-27T10:55:08.834720Z"
    },
    "papermill": {
     "duration": 0.035749,
     "end_time": "2024-09-27T10:55:08.838825",
     "exception": false,
     "start_time": "2024-09-27T10:55:08.803076",
     "status": "completed"
    },
    "tags": []
   },
   "outputs": [
    {
     "name": "stdout",
     "output_type": "stream",
     "text": [
      "Index([34737, 14821, 34750, 9743, 4434, 29706, 18258, 24665, 6432, 29154], dtype='int64')\n"
     ]
    }
   ],
   "source": [
    "movie_index = indices[\"Sherlock Holmes\"]\n",
    "similarity_scores = pd.DataFrame(cosine_sim[movie_index],\n",
    "                                 columns=[\"score\"])\n",
    "# First 10 scores\n",
    "movie_indices = similarity_scores.sort_values(\"score\", ascending=False)[1:11].index\n",
    "print(movie_indices)"
   ]
  },
  {
   "cell_type": "markdown",
   "id": "fc71bd0c",
   "metadata": {
    "papermill": {
     "duration": 0.007592,
     "end_time": "2024-09-27T10:55:08.854512",
     "exception": false,
     "start_time": "2024-09-27T10:55:08.846920",
     "status": "completed"
    },
    "tags": []
   },
   "source": [
    "**Accessing movie indices with titles**"
   ]
  },
  {
   "cell_type": "code",
   "execution_count": 11,
   "id": "5587cd03",
   "metadata": {
    "execution": {
     "iopub.execute_input": "2024-09-27T10:55:08.873041Z",
     "iopub.status.busy": "2024-09-27T10:55:08.872518Z",
     "iopub.status.idle": "2024-09-27T10:55:08.885112Z",
     "shell.execute_reply": "2024-09-27T10:55:08.883611Z"
    },
    "papermill": {
     "duration": 0.025026,
     "end_time": "2024-09-27T10:55:08.887637",
     "exception": false,
     "start_time": "2024-09-27T10:55:08.862611",
     "status": "completed"
    },
    "tags": []
   },
   "outputs": [
    {
     "data": {
      "text/plain": [
       "34737    Приключения Шерлока Холмса и доктора Ватсона: ...\n",
       "14821                                    The Royal Scandal\n",
       "34750    The Adventures of Sherlock Holmes and Doctor W...\n",
       "9743                           The Seven-Per-Cent Solution\n",
       "4434                                        Without a Clue\n",
       "29706                       How Sherlock Changed the World\n",
       "18258                   Sherlock Holmes: A Game of Shadows\n",
       "24665     The Sign of Four: Sherlock Holmes' Greatest Case\n",
       "6432                   The Private Life of Sherlock Holmes\n",
       "29154                          Sherlock Holmes in New York\n",
       "Name: title, dtype: object"
      ]
     },
     "execution_count": 11,
     "metadata": {},
     "output_type": "execute_result"
    }
   ],
   "source": [
    "df[\"title\"].iloc[movie_indices]"
   ]
  }
 ],
 "metadata": {
  "kaggle": {
   "accelerator": "none",
   "dataSources": [
    {
     "datasetId": 5776432,
     "sourceId": 9493454,
     "sourceType": "datasetVersion"
    }
   ],
   "dockerImageVersionId": 30775,
   "isGpuEnabled": false,
   "isInternetEnabled": true,
   "language": "python",
   "sourceType": "notebook"
  },
  "kernelspec": {
   "display_name": "Python 3",
   "language": "python",
   "name": "python3"
  },
  "language_info": {
   "codemirror_mode": {
    "name": "ipython",
    "version": 3
   },
   "file_extension": ".py",
   "mimetype": "text/x-python",
   "name": "python",
   "nbconvert_exporter": "python",
   "pygments_lexer": "ipython3",
   "version": "3.10.14"
  },
  "papermill": {
   "default_parameters": {},
   "duration": 64.655664,
   "end_time": "2024-09-27T10:55:11.028633",
   "environment_variables": {},
   "exception": null,
   "input_path": "__notebook__.ipynb",
   "output_path": "__notebook__.ipynb",
   "parameters": {},
   "start_time": "2024-09-27T10:54:06.372969",
   "version": "2.6.0"
  }
 },
 "nbformat": 4,
 "nbformat_minor": 5
}
